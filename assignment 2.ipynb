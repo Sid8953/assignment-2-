{
 "cells": [
  {
   "cell_type": "code",
   "execution_count": 7,
   "id": "3fd8d9d7-7997-4820-9dec-850f4c0b8f9e",
   "metadata": {},
   "outputs": [
    {
     "name": "stdin",
     "output_type": "stream",
     "text": [
      "enter your m: 65\n"
     ]
    },
    {
     "name": "stdout",
     "output_type": "stream",
     "text": [
      "Grade C\n"
     ]
    }
   ],
   "source": [
    "# ans 1 \n",
    "\n",
    "m = float(input(\"enter your m:\"))\n",
    "\n",
    "\n",
    "if  m>90:\n",
    "    print('Grade A')\n",
    "    \n",
    "elif m>80 and m<=90:\n",
    "    print('Grade B')\n",
    "    \n",
    "elif m>= 60 and m<= 80:\n",
    "    print('Grade C')\n",
    "    \n",
    "elif m< 60:\n",
    "    print('Grade D')"
   ]
  },
  {
   "cell_type": "code",
   "execution_count": 12,
   "id": "859fb111-6a86-4806-99bd-8a3e7a7ef9fb",
   "metadata": {},
   "outputs": [
    {
     "name": "stdin",
     "output_type": "stream",
     "text": [
      "Enter the cost price:  45000\n"
     ]
    },
    {
     "name": "stdout",
     "output_type": "stream",
     "text": [
      "The road tax to be paid is: 2250.0\n"
     ]
    }
   ],
   "source": [
    "# ans 2\n",
    "def calculate_road_tax(cost_price):\n",
    "    if cost_price > 100000:\n",
    "        road_tax = cost_price * 0.15\n",
    "    \n",
    "    elif cost_price > 50000 and cost_price<=100000:\n",
    "        road_tax = cost_price * 0.10\n",
    "\n",
    "    elif cost_price <= 50000:\n",
    "        road_tax = cost_price * 0.05\n",
    "        \n",
    "    return road_tax\n",
    "\n",
    "cost_price = int(input(\"Enter the cost price: \"))\n",
    "road_tax = calculate_road_tax(cost_price)\n",
    "print(\"The road tax to be paid is:\", road_tax)"
   ]
  },
  {
   "cell_type": "code",
   "execution_count": 1,
   "id": "255ac982-bab8-4aa4-842e-f7f3c204e295",
   "metadata": {},
   "outputs": [
    {
     "name": "stdin",
     "output_type": "stream",
     "text": [
      "Enter a city agra\n"
     ]
    },
    {
     "name": "stdout",
     "output_type": "stream",
     "text": [
      "Taj Mahal\n"
     ]
    }
   ],
   "source": [
    "# ans 3\n",
    "city = input(\"Enter a city\")\n",
    "\n",
    "if city.upper() == \"DELHI\":\n",
    "    print(\"Red Fort\")\n",
    "\n",
    "elif city.upper() == \"AGRA\":\n",
    "    print(\"Taj Mahal\")\n",
    "\n",
    "elif city.upper() == \"JAIPUR\":\n",
    "    print(\"Jal Mahal\")\n",
    "\n",
    "else:\n",
    "    print(\"Enter a valid city\")"
   ]
  },
  {
   "cell_type": "code",
   "execution_count": 4,
   "id": "52eb9cd5-a32d-4ff7-a026-e3cf346c765e",
   "metadata": {},
   "outputs": [
    {
     "name": "stdout",
     "output_type": "stream",
     "text": [
      "1\n",
      "2\n",
      "3\n",
      "4\n",
      "5\n",
      "6\n",
      "7\n",
      "8\n",
      "9\n"
     ]
    }
   ],
   "source": [
    "# ans 5 \n",
    "With the while loop we can execute a set of statements as long as a condition is true.\n",
    "\n",
    "i = 1\n",
    "while i < 10:\n",
    "print(i)\n",
    "  i += 1\n"
   ]
  },
  {
   "cell_type": "code",
   "execution_count": 5,
   "id": "0d90db6c-3af9-4437-8675-11113e64b180",
   "metadata": {},
   "outputs": [
    {
     "name": "stdout",
     "output_type": "stream",
     "text": [
      "10\n",
      "9\n",
      "8\n",
      "7\n",
      "6\n",
      "5\n",
      "4\n",
      "3\n",
      "2\n",
      "1\n"
     ]
    }
   ],
   "source": [
    "# ans 7\n",
    "i = 10\n",
    "while i > 0:\n",
    "    print(i)\n",
    "    i = i - 1\n"
   ]
  },
  {
   "cell_type": "code",
   "execution_count": 8,
   "id": "9bd0408c-9dc7-4a55-8263-e9ea01d484d6",
   "metadata": {},
   "outputs": [
    {
     "name": "stdin",
     "output_type": "stream",
     "text": [
      "enter no of rows 5\n"
     ]
    },
    {
     "name": "stdout",
     "output_type": "stream",
     "text": [
      "# \n",
      "# # \n",
      "# # # \n",
      "# # # # \n",
      "# # # # # \n"
     ]
    }
   ],
   "source": [
    "# ans 6\n",
    "n = int(input('enter no of rows'))\n",
    "i=1\n",
    "while i <=n:\n",
    "    j = 1\n",
    "    while j <= i:\n",
    "        print(\"#\", end = \" \")\n",
    "        j += 1\n",
    "    print()\n",
    "    i += 1"
   ]
  },
  {
   "cell_type": "code",
   "execution_count": 1,
   "id": "5fd35148-54a7-4808-b732-e44933910b86",
   "metadata": {},
   "outputs": [
    {
     "name": "stdout",
     "output_type": "stream",
     "text": [
      "12345678910\n",
      "12345678910\n",
      "12345678910\n",
      "12345678910\n",
      "12345678910\n"
     ]
    }
   ],
   "source": [
    "i = 1 \n",
    "while i <=5 :\n",
    "    j=1 \n",
    "    while j <= 10:\n",
    "        print(j, end ='')\n",
    "        j = j+1\n",
    "    i = i+1\n",
    "    print()"
   ]
  },
  {
   "cell_type": "code",
   "execution_count": 2,
   "id": "3cb98630-303f-4292-bd56-4c73099eba6f",
   "metadata": {},
   "outputs": [
    {
     "name": "stdout",
     "output_type": "stream",
     "text": [
      "total iteration required 3\n"
     ]
    }
   ],
   "source": [
    "# ans 4 \n",
    "count = 0\n",
    "number = 180 \n",
    "while number >10:\n",
    "    number = number / 3\n",
    "    count = count + 1\n",
    "print('total iteration required', count)"
   ]
  },
  {
   "cell_type": "code",
   "execution_count": null,
   "id": "1f0fb928-87ff-4580-b135-47ffb811aef3",
   "metadata": {},
   "outputs": [],
   "source": []
  }
 ],
 "metadata": {
  "kernelspec": {
   "display_name": "Python 3 (ipykernel)",
   "language": "python",
   "name": "python3"
  },
  "language_info": {
   "codemirror_mode": {
    "name": "ipython",
    "version": 3
   },
   "file_extension": ".py",
   "mimetype": "text/x-python",
   "name": "python",
   "nbconvert_exporter": "python",
   "pygments_lexer": "ipython3",
   "version": "3.10.8"
  }
 },
 "nbformat": 4,
 "nbformat_minor": 5
}
